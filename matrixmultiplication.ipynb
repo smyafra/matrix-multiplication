{
  "nbformat": 4,
  "nbformat_minor": 0,
  "metadata": {
    "colab": {
      "provenance": []
    },
    "kernelspec": {
      "name": "python3",
      "display_name": "Python 3"
    },
    "language_info": {
      "name": "python"
    }
  },
  "cells": [
    {
      "cell_type": "code",
      "execution_count": null,
      "metadata": {
        "id": "Z8yRccPE6-VA"
      },
      "outputs": [],
      "source": [
        "matrix1 = []\n",
        "while True:\n",
        "  in_str = input()\n",
        "  if in_str == \"*\":\n",
        "    break\n",
        "  matrix1.append(in_str.split(\" \"))\n",
        "\n",
        "matrix2 = []\n",
        "while True:\n",
        "  in_str = input()\n",
        "  if in_str == \"=\":\n",
        "    break\n",
        "  matrix2.append(in_str.split(\" \"))"
      ]
    },
    {
      "cell_type": "code",
      "source": [
        "matrix1_int= matrix1\n",
        "for i in range(len(matrix1)):\n",
        "    for j in range(len(matrix1[0])):\n",
        "      matrix1_int[i][j]=int(matrix1_int[i][j])\n",
        "\n",
        "matrix2_int= matrix2\n",
        "for i in range(len(matrix2)):\n",
        "    for j in range(len(matrix2[0])):\n",
        "      matrix2_int[i][j]=int(matrix2_int[i][j])\n",
        "\n",
        "print (matrix1_int)\n",
        "print(matrix2_int)"
      ],
      "metadata": {
        "id": "yd_qWXLn7GWp"
      },
      "execution_count": null,
      "outputs": []
    },
    {
      "cell_type": "code",
      "source": [
        "result=[[0 for col in range(len(matrix2_int[1]))] for row in range(len(matrix1_int))]\n",
        "help_vector=[]\n",
        "for i in range(len(matrix1_int)):\n",
        "  print(\"i=\",i)\n",
        "  sum=0\n",
        "  ii=0\n",
        "  while ii<len(matrix1_int):\n",
        "    for j in range(len(matrix1[0])):\n",
        "      print(\"j=\",j)\n",
        "      sum += matrix1_int[i][j] * matrix2_int[j][ii]\n",
        "    help_vector.append(sum)\n",
        "    sum=0\n",
        "    print(help_vector)\n",
        "    ii=ii+1\n",
        "index=0\n",
        "for row in range(len(matrix1_int)):\n",
        "  for col in range(len(matrix2_int[0])):\n",
        "    result[row][col]=help_vector[index]\n",
        "    index=index+1\n",
        "\n",
        "print(result)"
      ],
      "metadata": {
        "id": "4wcqiH0t7Nzt"
      },
      "execution_count": null,
      "outputs": []
    }
  ]
}